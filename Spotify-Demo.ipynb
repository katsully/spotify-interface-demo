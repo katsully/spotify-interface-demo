{
 "cells": [
  {
   "cell_type": "code",
   "execution_count": null,
   "id": "b4c5842f-2bb8-466e-8797-b9a41f749efe",
   "metadata": {},
   "outputs": [],
   "source": [
    "import spotipy\n",
    "import urllib.request\n",
    "import random\n",
    "import requests\n",
    "import nltk\n",
    "import webbrowser\n",
    "import json\n",
    "from nltk import pos_tag\n",
    "import spotipy.util as util"
   ]
  },
  {
   "cell_type": "code",
   "execution_count": null,
   "id": "f72bc623-0b8c-46c8-9cc6-c1aa30b22d1d",
   "metadata": {},
   "outputs": [],
   "source": [
    "category = \"technology\"\n",
    "country = \"gb\""
   ]
  },
  {
   "cell_type": "code",
   "execution_count": null,
   "id": "24592a8f-1a31-4898-b290-66d33923eba2",
   "metadata": {},
   "outputs": [],
   "source": [
    "with open(\"news_key.txt\", \"r\") as file:\n",
    "    key = file.read()"
   ]
  },
  {
   "cell_type": "code",
   "execution_count": null,
   "id": "7e1e9028-b316-4bb0-9c91-1a22bb825662",
   "metadata": {},
   "outputs": [],
   "source": [
    "url = \"https://newsapi.org/v2/top-headlines?country=\" + country + \"&category=\" + category + \"&apiKey=\" + key"
   ]
  },
  {
   "cell_type": "code",
   "execution_count": null,
   "id": "9d4530a3-5382-49f1-9d4f-070251356a46",
   "metadata": {},
   "outputs": [],
   "source": [
    "url"
   ]
  },
  {
   "cell_type": "code",
   "execution_count": null,
   "id": "f0effbe3-7972-45fd-8dba-7c3bf4b8f9de",
   "metadata": {},
   "outputs": [],
   "source": [
    "# requesting the information\n",
    "request = urllib.request.Request(url)\n",
    "# the information is coming back to me\n",
    "response = urllib.request.urlopen(request)"
   ]
  },
  {
   "cell_type": "code",
   "execution_count": null,
   "id": "8d1207e7-18c6-44b5-ac1e-0c8720215d89",
   "metadata": {},
   "outputs": [],
   "source": [
    "response"
   ]
  },
  {
   "cell_type": "code",
   "execution_count": null,
   "id": "e6e95aa8-ecdc-4340-8bd0-f90a5df3d13d",
   "metadata": {},
   "outputs": [],
   "source": [
    "# to get the data out of the response object\n",
    "headlines = json.loads(response.read())"
   ]
  },
  {
   "cell_type": "code",
   "execution_count": null,
   "id": "6e07daf1-f40c-4d49-b4cd-97b688223c28",
   "metadata": {},
   "outputs": [],
   "source": [
    "headlines"
   ]
  },
  {
   "cell_type": "code",
   "execution_count": null,
   "id": "584952ff-d895-469c-80f6-f1b7762f6ec3",
   "metadata": {},
   "outputs": [],
   "source": [
    "headlines['articles'][0]['title']"
   ]
  },
  {
   "cell_type": "code",
   "execution_count": null,
   "id": "20415def-725c-4eda-8c40-b0fce08a55f7",
   "metadata": {},
   "outputs": [],
   "source": [
    "article_titles = [article['title'] for article in headlines['articles']]"
   ]
  },
  {
   "cell_type": "code",
   "execution_count": null,
   "id": "093ac1a4-7f25-4f39-88d1-5ff6dbd18332",
   "metadata": {},
   "outputs": [],
   "source": [
    "article_titles"
   ]
  },
  {
   "cell_type": "code",
   "execution_count": null,
   "id": "05d8c253-3847-4fc5-be1e-3081f1fb4f42",
   "metadata": {},
   "outputs": [],
   "source": [
    "tagged = pos_tag(article_titles[0].split())\n",
    "tagged"
   ]
  },
  {
   "cell_type": "code",
   "execution_count": null,
   "id": "99eb6c12-cfa4-4513-8805-ea163148ec0e",
   "metadata": {},
   "outputs": [],
   "source": [
    "for tag in tagged:\n",
    "    print(tag)"
   ]
  },
  {
   "cell_type": "code",
   "execution_count": null,
   "id": "b4a83116-fcf9-40ca-8cb3-3c42e504a143",
   "metadata": {},
   "outputs": [],
   "source": [
    "important_words = []\n",
    "for article in article_titles:\n",
    "    tagged = pos_tag(article.split())\n",
    "    # only select the proper nouns\n",
    "    important_words.extend([word for word,tag in tagged if tag == 'NNP'])\n",
    "\n",
    "important_words"
   ]
  },
  {
   "cell_type": "code",
   "execution_count": null,
   "id": "06fdb4ee-81bc-4ab2-a1a5-02cf6c266bbd",
   "metadata": {},
   "outputs": [],
   "source": [
    "with open(\"spotify_keys.json\", \"r\") as file:\n",
    "    api_tokens = json.load(file)"
   ]
  },
  {
   "cell_type": "code",
   "execution_count": null,
   "id": "245a1a0a-75bd-4af4-ac28-c9d5abbd47bf",
   "metadata": {},
   "outputs": [],
   "source": [
    "client_id = api_tokens[\"client_id\"]\n",
    "client_secret = api_tokens[\"client_secret\"]\n",
    "redirectURI = api_tokens[\"redirect\"]\n",
    "username = api_tokens[\"username\"]"
   ]
  },
  {
   "cell_type": "code",
   "execution_count": null,
   "id": "4cec29b9-6523-4de5-b8e1-14687c1fd0c0",
   "metadata": {},
   "outputs": [],
   "source": [
    "scope = 'user-read-private user-read-playback-state user-modify-playback-state playlist-modify-public user-library-read'\n",
    "token = util.prompt_for_user_token(username, scope, client_id=client_id,\n",
    "                           client_secret=client_secret,\n",
    "                           redirect_uri=redirectURI)"
   ]
  },
  {
   "cell_type": "code",
   "execution_count": null,
   "id": "44043fcd-57b7-4ceb-8671-e0cf4ac3b530",
   "metadata": {},
   "outputs": [],
   "source": [
    "token"
   ]
  },
  {
   "cell_type": "code",
   "execution_count": null,
   "id": "40769d02-ad1f-4787-9e4e-74a7ee4487d3",
   "metadata": {},
   "outputs": [],
   "source": [
    "sp = spotipy.Spotify(auth=token)"
   ]
  },
  {
   "cell_type": "code",
   "execution_count": null,
   "id": "816ff585-4063-465f-b23a-3fe9ca6af9a3",
   "metadata": {},
   "outputs": [],
   "source": [
    "# using the artist filter\n",
    "searchResults = sp.search(q=\"artist:\" + important_words[0], type=\"track\", limit=1)"
   ]
  },
  {
   "cell_type": "code",
   "execution_count": null,
   "id": "f6527a93-7810-44bd-8efa-432051a60b4f",
   "metadata": {},
   "outputs": [],
   "source": [
    "important_words[0]"
   ]
  },
  {
   "cell_type": "code",
   "execution_count": null,
   "id": "1118574e-f969-4776-bb4b-32213f593ee1",
   "metadata": {},
   "outputs": [],
   "source": [
    "searchResults['tracks']['items']"
   ]
  },
  {
   "cell_type": "code",
   "execution_count": null,
   "id": "b07d620d-1b41-4eef-9276-cc1e1fdadee1",
   "metadata": {},
   "outputs": [],
   "source": [
    "tracks = []\n",
    "for word in important_words:\n",
    "    searchResults = sp.search(q=\"artist:\" + word, type=\"track\", limit=1)\n",
    "    # does the search return any results?\n",
    "    if len(searchResults['tracks']['items']) > 0:\n",
    "        tracks.append(searchResults['tracks']['items'][0]['uri'])\n",
    "\n",
    "tracks"
   ]
  },
  {
   "cell_type": "code",
   "execution_count": null,
   "id": "fd0a448f-9aeb-4488-85d1-1858a1d8e3bf",
   "metadata": {},
   "outputs": [],
   "source": [
    "# creating a new playlist - but has no songs!\n",
    "my_playlist = sp.user_playlist_create(user=username, name=\"Todays News in \" + category +  \"in\" + country, public=True,\n",
    "                                      description=\"Songs for the news\")\n"
   ]
  },
  {
   "cell_type": "code",
   "execution_count": null,
   "id": "c273ecc7-b6ad-420a-b4a2-704838b35417",
   "metadata": {},
   "outputs": [],
   "source": [
    "# we are adding songs to our playlist!\n",
    "results = sp.user_playlist_add_tracks(username, my_playlist['id'], tracks)"
   ]
  },
  {
   "cell_type": "code",
   "execution_count": null,
   "id": "bd1e90b5-6423-45ba-93fe-fecb2a965dab",
   "metadata": {},
   "outputs": [],
   "source": [
    "my_playlist"
   ]
  },
  {
   "cell_type": "code",
   "execution_count": null,
   "id": "59ac0602-af66-4156-9885-45e0c4c73103",
   "metadata": {},
   "outputs": [],
   "source": [
    "webbrowser.open(my_playlist['external_urls']['spotify'])"
   ]
  },
  {
   "cell_type": "code",
   "execution_count": null,
   "id": "cb631f8d-04e8-477e-aa1d-42f59179940d",
   "metadata": {},
   "outputs": [],
   "source": []
  }
 ],
 "metadata": {
  "kernelspec": {
   "display_name": "Python 3 (ipykernel)",
   "language": "python",
   "name": "python3"
  },
  "language_info": {
   "codemirror_mode": {
    "name": "ipython",
    "version": 3
   },
   "file_extension": ".py",
   "mimetype": "text/x-python",
   "name": "python",
   "nbconvert_exporter": "python",
   "pygments_lexer": "ipython3",
   "version": "3.10.6"
  }
 },
 "nbformat": 4,
 "nbformat_minor": 5
}
