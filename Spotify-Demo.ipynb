{
 "cells": [
  {
   "cell_type": "code",
   "execution_count": 1,
   "id": "b4c5842f-2bb8-466e-8797-b9a41f749efe",
   "metadata": {},
   "outputs": [],
   "source": [
    "import spotipy\n",
    "import urllib.request\n",
    "import random\n",
    "import requests\n",
    "import nltk\n",
    "import webbrowser"
   ]
  },
  {
   "cell_type": "code",
   "execution_count": 2,
   "id": "24592a8f-1a31-4898-b290-66d33923eba2",
   "metadata": {},
   "outputs": [],
   "source": [
    "with open(\"news_key.txt\", \"r\") as file:\n",
    "    key = file.read()"
   ]
  },
  {
   "cell_type": "code",
   "execution_count": 3,
   "id": "7e1e9028-b316-4bb0-9c91-1a22bb825662",
   "metadata": {},
   "outputs": [],
   "source": [
    "url = \"https://newsapi.org/v2/top-headlines?country=us&category=entertainment&apiKey=\" + key"
   ]
  },
  {
   "cell_type": "code",
   "execution_count": 4,
   "id": "9d4530a3-5382-49f1-9d4f-070251356a46",
   "metadata": {},
   "outputs": [
    {
     "data": {
      "text/plain": [
       "'https://newsapi.org/v2/top-headlines?country=us&category=entertainment&apiKey=19e7b8a1be8f48a790f4655dde3660e4'"
      ]
     },
     "execution_count": 4,
     "metadata": {},
     "output_type": "execute_result"
    }
   ],
   "source": [
    "url"
   ]
  },
  {
   "cell_type": "code",
   "execution_count": 5,
   "id": "f0effbe3-7972-45fd-8dba-7c3bf4b8f9de",
   "metadata": {},
   "outputs": [],
   "source": [
    "# requesting the information\n",
    "request = urllib.request.Request(url)\n",
    "# the information is coming back to me\n",
    "response = urllib.request.urlopen(request)"
   ]
  },
  {
   "cell_type": "code",
   "execution_count": 6,
   "id": "8d1207e7-18c6-44b5-ac1e-0c8720215d89",
   "metadata": {},
   "outputs": [
    {
     "data": {
      "text/plain": [
       "<http.client.HTTPResponse at 0x1f7206a05b0>"
      ]
     },
     "execution_count": 6,
     "metadata": {},
     "output_type": "execute_result"
    }
   ],
   "source": [
    "response"
   ]
  },
  {
   "cell_type": "code",
   "execution_count": 7,
   "id": "e6e95aa8-ecdc-4340-8bd0-f90a5df3d13d",
   "metadata": {},
   "outputs": [
    {
     "data": {
      "text/plain": [
       "200"
      ]
     },
     "execution_count": 7,
     "metadata": {},
     "output_type": "execute_result"
    }
   ],
   "source": [
    "response.status"
   ]
  },
  {
   "cell_type": "code",
   "execution_count": null,
   "id": "6e07daf1-f40c-4d49-b4cd-97b688223c28",
   "metadata": {},
   "outputs": [],
   "source": []
  }
 ],
 "metadata": {
  "kernelspec": {
   "display_name": "Python 3 (ipykernel)",
   "language": "python",
   "name": "python3"
  },
  "language_info": {
   "codemirror_mode": {
    "name": "ipython",
    "version": 3
   },
   "file_extension": ".py",
   "mimetype": "text/x-python",
   "name": "python",
   "nbconvert_exporter": "python",
   "pygments_lexer": "ipython3",
   "version": "3.10.6"
  }
 },
 "nbformat": 4,
 "nbformat_minor": 5
}
