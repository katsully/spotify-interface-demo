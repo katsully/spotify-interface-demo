{
 "cells": [
  {
   "cell_type": "code",
   "execution_count": 32,
   "id": "b4c5842f-2bb8-466e-8797-b9a41f749efe",
   "metadata": {},
   "outputs": [],
   "source": [
    "import spotipy\n",
    "import urllib.request\n",
    "import random\n",
    "import requests\n",
    "import nltk\n",
    "import webbrowser\n",
    "import json\n",
    "from nltk import pos_tag\n",
    "import spotipy.util as util"
   ]
  },
  {
   "cell_type": "code",
   "execution_count": 73,
   "id": "f72bc623-0b8c-46c8-9cc6-c1aa30b22d1d",
   "metadata": {},
   "outputs": [],
   "source": [
    "category = \"technology\"\n",
    "country = \"gb\""
   ]
  },
  {
   "cell_type": "code",
   "execution_count": 2,
   "id": "24592a8f-1a31-4898-b290-66d33923eba2",
   "metadata": {},
   "outputs": [],
   "source": [
    "with open(\"news_key.txt\", \"r\") as file:\n",
    "    key = file.read()"
   ]
  },
  {
   "cell_type": "code",
   "execution_count": 74,
   "id": "7e1e9028-b316-4bb0-9c91-1a22bb825662",
   "metadata": {},
   "outputs": [],
   "source": [
    "url = \"https://newsapi.org/v2/top-headlines?country=\" + country + \"&category=\" + category + \"&apiKey=\" + key"
   ]
  },
  {
   "cell_type": "code",
   "execution_count": 75,
   "id": "9d4530a3-5382-49f1-9d4f-070251356a46",
   "metadata": {},
   "outputs": [
    {
     "data": {
      "text/plain": [
       "'https://newsapi.org/v2/top-headlines?country=gb&category=technology&apiKey=19e7b8a1be8f48a790f4655dde3660e4'"
      ]
     },
     "execution_count": 75,
     "metadata": {},
     "output_type": "execute_result"
    }
   ],
   "source": [
    "url"
   ]
  },
  {
   "cell_type": "code",
   "execution_count": 76,
   "id": "f0effbe3-7972-45fd-8dba-7c3bf4b8f9de",
   "metadata": {},
   "outputs": [],
   "source": [
    "# requesting the information\n",
    "request = urllib.request.Request(url)\n",
    "# the information is coming back to me\n",
    "response = urllib.request.urlopen(request)"
   ]
  },
  {
   "cell_type": "code",
   "execution_count": 6,
   "id": "8d1207e7-18c6-44b5-ac1e-0c8720215d89",
   "metadata": {},
   "outputs": [
    {
     "data": {
      "text/plain": [
       "<http.client.HTTPResponse at 0x1f7206a05b0>"
      ]
     },
     "execution_count": 6,
     "metadata": {},
     "output_type": "execute_result"
    }
   ],
   "source": [
    "response"
   ]
  },
  {
   "cell_type": "code",
   "execution_count": 77,
   "id": "e6e95aa8-ecdc-4340-8bd0-f90a5df3d13d",
   "metadata": {},
   "outputs": [],
   "source": [
    "# to get the data out of the response object\n",
    "headlines = json.loads(response.read())"
   ]
  },
  {
   "cell_type": "code",
   "execution_count": 12,
   "id": "6e07daf1-f40c-4d49-b4cd-97b688223c28",
   "metadata": {},
   "outputs": [
    {
     "data": {
      "text/plain": [
       "{'status': 'ok',\n",
       " 'totalResults': 68,\n",
       " 'articles': [{'title': 'The Best Red Carpet Looks At Beyoncé\\'s \"Renaissance\" Film Premiere - Essence',\n",
       "   'author': 'Kerane Marcellus',\n",
       "   'source': {'id': None, 'name': 'Essence'},\n",
       "   'publishedAt': '2023-11-27T13:49:00Z',\n",
       "   'url': 'http://www.essence.com/gallery/renaissance-film-beyonce-premiere-best-red-carpet-looks/'},\n",
       "  {'title': 'Taylor Swift poses for photo with family of fan who died at Eras Tour show - Page Six',\n",
       "   'author': 'Riley Cardoza',\n",
       "   'source': {'id': None, 'name': 'Page Six'},\n",
       "   'publishedAt': '2023-11-27T13:13:00Z',\n",
       "   'url': 'https://pagesix.com/2023/11/27/entertainment/taylor-swift-meets-family-of-fan-who-died-at-eras-tour-show/'},\n",
       "  {'title': 'Craziest WWE mismatches: WWE Playlist - WWE',\n",
       "   'author': None,\n",
       "   'source': {'id': None, 'name': 'YouTube'},\n",
       "   'publishedAt': '2023-11-27T13:00:00Z',\n",
       "   'url': 'https://www.youtube.com/watch?v=-wLdd4l4YXE'},\n",
       "  {'title': \"Irish author Paul Lynch wins Booker Prize for 'Prophet Song' - DW (English)\",\n",
       "   'author': 'Deutsche Welle',\n",
       "   'source': {'id': None, 'name': 'DW (English)'},\n",
       "   'publishedAt': '2023-11-27T12:55:52Z',\n",
       "   'url': 'https://www.dw.com/en/irish-author-paul-lynch-wins-booker-prize-for-prophet-song/a-67558992'},\n",
       "  {'title': \"John Travolta nearly died after his plane had 'total electrical failure' - New York Post \",\n",
       "   'author': 'Stephanie Webber',\n",
       "   'source': {'id': None, 'name': 'New York Post'},\n",
       "   'publishedAt': '2023-11-27T12:51:00Z',\n",
       "   'url': 'https://nypost.com/2023/11/27/entertainment/john-travolta-nearly-died-after-plane-had-total-electrical-failure/'},\n",
       "  {'title': 'Historians absolutely hate Ridley Scott Napoleon movie - Insider',\n",
       "   'author': 'Marianne Guenot',\n",
       "   'source': {'id': None, 'name': 'INSIDER'},\n",
       "   'publishedAt': '2023-11-27T12:30:00Z',\n",
       "   'url': 'https://www.insider.com/historians-absolutely-hate-ridley-scott-napoleon-movie-2023-11'},\n",
       "  {'title': \"'Reindeer in Here': Why a dad made an 'Elf on the Shelf' alternative - USA TODAY\",\n",
       "   'author': 'USA TODAY',\n",
       "   'source': {'id': 'usa-today', 'name': 'USA Today'},\n",
       "   'publishedAt': '2023-11-27T12:03:26Z',\n",
       "   'url': 'https://www.usatoday.com/story/money/2023/11/27/reindeer-in-here-elf-on-the-shelf-alternative/71672948007/'},\n",
       "  {'title': 'Last chance: Hulu and Disney Plus Cyber Monday deal combo $2.99/month - Space.com',\n",
       "   'author': 'Alexander Cox, Jase Parnell-Brookes',\n",
       "   'source': {'id': None, 'name': 'Space.com'},\n",
       "   'publishedAt': '2023-11-27T11:38:26Z',\n",
       "   'url': 'https://www.space.com/hulu-disney-plus-cyber-monday-streaming-deal-2023'},\n",
       "  {'title': 'Country music couples Tim McGraw, Faith Hill and Garth Brooks, Trisha Yearwood share tips to lasting marriages - Fox News',\n",
       "   'author': 'Stephanie Giang-Paunon',\n",
       "   'source': {'id': 'fox-news', 'name': 'Fox News'},\n",
       "   'publishedAt': '2023-11-27T11:00:00Z',\n",
       "   'url': 'https://www.foxnews.com/entertainment/country-music-couples-tim-mcgraw-faith-hill-garth-brooks-trisha-yearwood-lasting-marriages'},\n",
       "  {'title': \"Kim Kardashian's fake 'nipple bra' to ensure eye-popping view through clothing sold out online - Fox News\",\n",
       "   'author': 'Hannah Grossman',\n",
       "   'source': {'id': 'fox-news', 'name': 'Fox News'},\n",
       "   'publishedAt': '2023-11-27T11:00:00Z',\n",
       "   'url': 'https://www.foxnews.com/media/kim-kardashians-push-up-bra-fake-nipples-built-sold-out-online-get-lots-attention'},\n",
       "  {'title': 'Bradley Cooper supports Brad Pitt, Brooke Shields as real-life Hollywood hero - Fox News',\n",
       "   'author': 'Tracy Wright',\n",
       "   'source': {'id': 'fox-news', 'name': 'Fox News'},\n",
       "   'publishedAt': '2023-11-27T10:30:00Z',\n",
       "   'url': 'https://www.foxnews.com/entertainment/bradley-cooper-supports-brad-pitt-brooke-shields-real-life-hollywood-hero'},\n",
       "  {'title': 'Tiny Desk Korea: Tomorrow X Together - NPR Music',\n",
       "   'author': None,\n",
       "   'source': {'id': None, 'name': 'YouTube'},\n",
       "   'publishedAt': '2023-11-27T10:00:42Z',\n",
       "   'url': 'https://www.youtube.com/watch?v=r5rCcKj84JU'},\n",
       "  {'title': \"Comedian Bill Engvall left California for Utah after successful career: 'Felt more at home' - Fox News\",\n",
       "   'author': 'Caroline Thayer',\n",
       "   'source': {'id': 'fox-news', 'name': 'Fox News'},\n",
       "   'publishedAt': '2023-11-27T09:30:00Z',\n",
       "   'url': 'https://www.foxnews.com/entertainment/bill-engvall-left-california-utah-successful-career-felt-like-home'},\n",
       "  {'title': 'MegaUpload Founder Kim Dotcom to Get the Biopic Treatment - Hollywood Reporter',\n",
       "   'author': 'Scott Roxborough',\n",
       "   'source': {'id': None, 'name': 'Hollywood Reporter'},\n",
       "   'publishedAt': '2023-11-27T09:05:51Z',\n",
       "   'url': 'https://www.hollywoodreporter.com/tv/tv-news/biopic-series-megaupload-founder-kim-dotcom-1235679471/'},\n",
       "  {'title': 'Kantara A Legend Chapter-1 First Look: Large! - Gulte',\n",
       "   'author': 'Satya B',\n",
       "   'source': {'id': None, 'name': 'Gulte'},\n",
       "   'publishedAt': '2023-11-27T07:30:00Z',\n",
       "   'url': 'https://www.gulte.com/movienews/269695/kantara-a-legend-chapter-1-first-look-large'},\n",
       "  {'title': 'Rumor Roundup: CM Punk’s WWE return, Drew McIntyre situation, WWE deals, more! - Cageside Seats',\n",
       "   'author': 'Randall Ortman',\n",
       "   'source': {'id': None, 'name': 'Cageside Seats'},\n",
       "   'publishedAt': '2023-11-27T06:00:00Z',\n",
       "   'url': 'https://www.cagesideseats.com/2023/11/27/23977213/rumor-roundup-nov-27-2023-cm-punk-wwe-return-drew-mcintyre-situation-wwe-deals-survivor-series'},\n",
       "  {'title': 'Linda Evangelista Says She Doesn’t “Blame” Herself After CoolSculpting Ordeal - Hollywood Reporter',\n",
       "   'author': 'Hilary Lewis',\n",
       "   'source': {'id': None, 'name': 'Hollywood Reporter'},\n",
       "   'publishedAt': '2023-11-27T05:51:44Z',\n",
       "   'url': 'https://www.hollywoodreporter.com/news/general-news/linda-evangelista-doesnt-blame-herself-coolsculpting-1235679394/'}]}"
      ]
     },
     "execution_count": 12,
     "metadata": {},
     "output_type": "execute_result"
    }
   ],
   "source": [
    "headlines"
   ]
  },
  {
   "cell_type": "code",
   "execution_count": 13,
   "id": "584952ff-d895-469c-80f6-f1b7762f6ec3",
   "metadata": {},
   "outputs": [
    {
     "data": {
      "text/plain": [
       "'The Best Red Carpet Looks At Beyoncé\\'s \"Renaissance\" Film Premiere - Essence'"
      ]
     },
     "execution_count": 13,
     "metadata": {},
     "output_type": "execute_result"
    }
   ],
   "source": [
    "headlines['articles'][0]['title']"
   ]
  },
  {
   "cell_type": "code",
   "execution_count": 78,
   "id": "20415def-725c-4eda-8c40-b0fce08a55f7",
   "metadata": {},
   "outputs": [],
   "source": [
    "article_titles = [article['title'] for article in headlines['articles']]"
   ]
  },
  {
   "cell_type": "code",
   "execution_count": 79,
   "id": "093ac1a4-7f25-4f39-88d1-5ff6dbd18332",
   "metadata": {},
   "outputs": [
    {
     "data": {
      "text/plain": [
       "['Here are all the latest Cyber Monday gaming deals, LIVE - Eurogamer.net',\n",
       " 'Massive PS Store Sale Makes 2800+ PS5, PS4 Games Cheaper Than Ever - Push Square',\n",
       " 'Joan Mir swaps sides to work with ex-Marc Marquez crew in 2024 - Crash',\n",
       " 'Georgina Rodriguez treats stepson Mateo, five, to a VIP day at the Abu Dhabi Grand Prix as he takes after his - Daily Mail',\n",
       " 'Best Argos Cyber Monday Deals: 26 Tech Offers - Wired.co.uk',\n",
       " 'Best Cyber Monday headphones and earbuds deals 2023: AirPods, Bose, Sony and more - The Independent',\n",
       " \"The Sonos Arc is my favourite Dolby Atmos soundbar and it's cheap for Cyber Monday - What Hi-Fi?\",\n",
       " 'ReedPop seeks buyer for Eurogamer, GI, VG247, Rock Paper Shotgun and more - GamesIndustry.biz',\n",
       " 'Keighley weighs in on debate over Dave the Diver qualifying for Best Indie Game | VGC - Video Games Chronicle',\n",
       " 'SteamWorld Build Review (PS5) - Push Square',\n",
       " \"This company just put the air in Apple's MacBook Air - The Verge\",\n",
       " \"The death of WhatsApp? How a generation of texters are switching back to 'chic' old-fashioned SMS as pressure - Daily Mail\",\n",
       " \"Them's Fightin' Herds accused of breaking promises as it ceases development of Story Mode - Eurogamer.net\",\n",
       " \"Apple can't match latest AirPods Pro price crash on Amazon - GB News\",\n",
       " 'Gran Turismo 7 Daily Races: Genesis Rock – GTPlanet - GTPlanet',\n",
       " \"Creator of Inscryption teases new game featuring a malevolent AI chatbot - here's a video - Rock Paper Shotgun\",\n",
       " 'This unbeatable OLED TV deal on the five-star LG G2 is still available for Cyber Monday - What Hi-Fi?',\n",
       " 'Google Drive seems to have lost some user data, reports say - Android Police']"
      ]
     },
     "execution_count": 79,
     "metadata": {},
     "output_type": "execute_result"
    }
   ],
   "source": [
    "article_titles"
   ]
  },
  {
   "cell_type": "code",
   "execution_count": 21,
   "id": "05d8c253-3847-4fc5-be1e-3081f1fb4f42",
   "metadata": {},
   "outputs": [
    {
     "data": {
      "text/plain": [
       "[('The', 'DT'),\n",
       " ('Best', 'NNP'),\n",
       " ('Red', 'NNP'),\n",
       " ('Carpet', 'NNP'),\n",
       " ('Looks', 'NNP'),\n",
       " ('At', 'IN'),\n",
       " (\"Beyoncé's\", 'NNP'),\n",
       " ('\"Renaissance\"', 'NNP'),\n",
       " ('Film', 'NNP'),\n",
       " ('Premiere', 'NNP'),\n",
       " ('-', ':'),\n",
       " ('Essence', 'NN')]"
      ]
     },
     "execution_count": 21,
     "metadata": {},
     "output_type": "execute_result"
    }
   ],
   "source": [
    "tagged = pos_tag(article_titles[0].split())\n",
    "tagged"
   ]
  },
  {
   "cell_type": "code",
   "execution_count": 24,
   "id": "99eb6c12-cfa4-4513-8805-ea163148ec0e",
   "metadata": {},
   "outputs": [
    {
     "name": "stdout",
     "output_type": "stream",
     "text": [
      "('The', 'DT')\n",
      "('Best', 'NNP')\n",
      "('Red', 'NNP')\n",
      "('Carpet', 'NNP')\n",
      "('Looks', 'NNP')\n",
      "('At', 'IN')\n",
      "(\"Beyoncé's\", 'NNP')\n",
      "('\"Renaissance\"', 'NNP')\n",
      "('Film', 'NNP')\n",
      "('Premiere', 'NNP')\n",
      "('-', ':')\n",
      "('Essence', 'NN')\n"
     ]
    }
   ],
   "source": [
    "for tag in tagged:\n",
    "    print(tag)"
   ]
  },
  {
   "cell_type": "code",
   "execution_count": 80,
   "id": "b4a83116-fcf9-40ca-8cb3-3c42e504a143",
   "metadata": {},
   "outputs": [
    {
     "data": {
      "text/plain": [
       "['Cyber',\n",
       " 'Monday',\n",
       " 'LIVE',\n",
       " 'PS',\n",
       " 'Store',\n",
       " 'Sale',\n",
       " 'Makes',\n",
       " 'PS5,',\n",
       " 'PS4',\n",
       " 'Games',\n",
       " 'Cheaper',\n",
       " 'Than',\n",
       " 'Ever',\n",
       " 'Push',\n",
       " 'Square',\n",
       " 'Joan',\n",
       " 'Mir',\n",
       " 'Marquez',\n",
       " 'Georgina',\n",
       " 'Rodriguez',\n",
       " 'Mateo,',\n",
       " 'VIP',\n",
       " 'Abu',\n",
       " 'Dhabi',\n",
       " 'Grand',\n",
       " 'Prix',\n",
       " 'Best',\n",
       " 'Argos',\n",
       " 'Cyber',\n",
       " 'Monday',\n",
       " 'Deals:',\n",
       " 'Tech',\n",
       " 'Offers',\n",
       " 'Cyber',\n",
       " 'Monday',\n",
       " 'AirPods,',\n",
       " 'Bose,',\n",
       " 'Sony',\n",
       " 'Sonos',\n",
       " 'Arc',\n",
       " 'Dolby',\n",
       " 'Atmos',\n",
       " 'Cyber',\n",
       " 'Monday',\n",
       " 'Hi-Fi?',\n",
       " 'ReedPop',\n",
       " 'Eurogamer,',\n",
       " 'GI,',\n",
       " 'VG247,',\n",
       " 'Rock',\n",
       " 'Paper',\n",
       " 'Shotgun',\n",
       " 'Keighley',\n",
       " 'Dave',\n",
       " 'Diver',\n",
       " 'Best',\n",
       " 'Indie',\n",
       " 'Game',\n",
       " '|',\n",
       " 'VGC',\n",
       " 'Video',\n",
       " 'Games',\n",
       " 'Chronicle',\n",
       " 'SteamWorld',\n",
       " 'Build',\n",
       " 'Review',\n",
       " '(PS5)',\n",
       " 'Push',\n",
       " 'Square',\n",
       " \"Apple's\",\n",
       " 'MacBook',\n",
       " 'Air',\n",
       " 'WhatsApp?',\n",
       " 'How',\n",
       " 'SMS',\n",
       " \"Them's\",\n",
       " \"Fightin'\",\n",
       " 'Herds',\n",
       " 'Story',\n",
       " 'Mode',\n",
       " 'Apple',\n",
       " 'Pro',\n",
       " 'Amazon',\n",
       " 'GB',\n",
       " 'News',\n",
       " 'Gran',\n",
       " 'Turismo',\n",
       " 'Daily',\n",
       " 'Races:',\n",
       " 'Genesis',\n",
       " 'Rock',\n",
       " '–',\n",
       " 'GTPlanet',\n",
       " 'Inscryption',\n",
       " 'AI',\n",
       " 'Rock',\n",
       " 'Paper',\n",
       " 'Shotgun',\n",
       " 'OLED',\n",
       " 'LG',\n",
       " 'G2',\n",
       " 'Cyber',\n",
       " 'Monday',\n",
       " 'Hi-Fi?',\n",
       " 'Google',\n",
       " 'Drive',\n",
       " 'Police']"
      ]
     },
     "execution_count": 80,
     "metadata": {},
     "output_type": "execute_result"
    }
   ],
   "source": [
    "important_words = []\n",
    "for article in article_titles:\n",
    "    tagged = pos_tag(article.split())\n",
    "    # only select the proper nouns\n",
    "    important_words.extend([word for word,tag in tagged if tag == 'NNP'])\n",
    "\n",
    "important_words"
   ]
  },
  {
   "cell_type": "code",
   "execution_count": 29,
   "id": "06fdb4ee-81bc-4ab2-a1a5-02cf6c266bbd",
   "metadata": {},
   "outputs": [],
   "source": [
    "with open(\"spotify_keys.json\", \"r\") as file:\n",
    "    api_tokens = json.load(file)"
   ]
  },
  {
   "cell_type": "code",
   "execution_count": 30,
   "id": "245a1a0a-75bd-4af4-ac28-c9d5abbd47bf",
   "metadata": {},
   "outputs": [],
   "source": [
    "client_id = api_tokens[\"client_id\"]\n",
    "client_secret = api_tokens[\"client_secret\"]\n",
    "redirectURI = api_tokens[\"redirect\"]\n",
    "username = api_tokens[\"username\"]"
   ]
  },
  {
   "cell_type": "code",
   "execution_count": null,
   "id": "4cec29b9-6523-4de5-b8e1-14687c1fd0c0",
   "metadata": {},
   "outputs": [],
   "source": [
    "scope = 'user-read-private user-read-playback-state user-modify-playback-state playlist-modify-public user-library-read'\n",
    "token = util.prompt_for_user_token(username, scope, client_id=client_id,\n",
    "                           client_secret=client_secret,\n",
    "                           redirect_uri=redirectURI)"
   ]
  },
  {
   "cell_type": "code",
   "execution_count": null,
   "id": "44043fcd-57b7-4ceb-8671-e0cf4ac3b530",
   "metadata": {},
   "outputs": [],
   "source": [
    "token"
   ]
  },
  {
   "cell_type": "code",
   "execution_count": 37,
   "id": "40769d02-ad1f-4787-9e4e-74a7ee4487d3",
   "metadata": {},
   "outputs": [],
   "source": [
    "sp = spotipy.Spotify(auth=token)"
   ]
  },
  {
   "cell_type": "code",
   "execution_count": 38,
   "id": "816ff585-4063-465f-b23a-3fe9ca6af9a3",
   "metadata": {},
   "outputs": [],
   "source": [
    "# using the artist filter\n",
    "searchResults = sp.search(q=\"artist:\" + important_words[0], type=\"track\", limit=1)"
   ]
  },
  {
   "cell_type": "code",
   "execution_count": 42,
   "id": "f6527a93-7810-44bd-8efa-432051a60b4f",
   "metadata": {},
   "outputs": [
    {
     "data": {
      "text/plain": [
       "'Best'"
      ]
     },
     "execution_count": 42,
     "metadata": {},
     "output_type": "execute_result"
    }
   ],
   "source": [
    "important_words[0]"
   ]
  },
  {
   "cell_type": "code",
   "execution_count": 59,
   "id": "1118574e-f969-4776-bb4b-32213f593ee1",
   "metadata": {},
   "outputs": [
    {
     "data": {
      "text/plain": [
       "[]"
      ]
     },
     "execution_count": 59,
     "metadata": {},
     "output_type": "execute_result"
    }
   ],
   "source": [
    "searchResults['tracks']['items']"
   ]
  },
  {
   "cell_type": "code",
   "execution_count": 81,
   "id": "b07d620d-1b41-4eef-9276-cc1e1fdadee1",
   "metadata": {},
   "outputs": [
    {
     "data": {
      "text/plain": [
       "['spotify:track:5LD9Kx8SmFL4yToNIbQ0ty',\n",
       " 'spotify:track:5OAEQKfQzIB3X4K7TtviZf',\n",
       " 'spotify:track:48iWbsOaBUAGzMdoSmqyg1',\n",
       " 'spotify:track:03UrZgTINDqvnUMbbIMhql',\n",
       " 'spotify:track:7y3cONggV9eQXXgchSUGgT',\n",
       " 'spotify:track:0So2sgVa8aJiARPl2P29u2',\n",
       " 'spotify:track:7FqrsV0vBwNiQNQI6jfzni',\n",
       " 'spotify:track:0nNTh1E26SQGtgdETLnsEb',\n",
       " 'spotify:track:20eVKkGdkyEDdMajGzy8DQ',\n",
       " 'spotify:track:1sBvGY100lfD3w6tR22M1D',\n",
       " 'spotify:track:5pHlE7r4R5mXyZKwOnzVTx',\n",
       " 'spotify:track:0ttHpMs250dpFkCYAnuhnE',\n",
       " 'spotify:track:37EJtTS7jT5WUyXGZzrwnI',\n",
       " 'spotify:track:7aK5rlTVxSgcqShPMI1TTH',\n",
       " 'spotify:track:2oyJMZrw1DGvvkT2NbCZ0Y',\n",
       " 'spotify:track:2Cdvbe2G4hZsnhNMKyGrie',\n",
       " 'spotify:track:5UBonaClAZVfzxJNn8nnhh',\n",
       " 'spotify:track:4fQgdmcUMqmlhhSjQdMHTE',\n",
       " 'spotify:track:3w0K2fSm0e01bij42J9Bbv',\n",
       " 'spotify:track:39fKVWP7D9qAmkM8qjRQoC',\n",
       " 'spotify:track:1WHun58cINB7qnT60KcHtQ',\n",
       " 'spotify:track:2rd4FH1cSaWGc0ZiUaMbX9',\n",
       " 'spotify:track:7JEnT0uFWcwZqNZWv7hC9N',\n",
       " 'spotify:track:3KIwbte3wFv9R2s1OTmuFH',\n",
       " 'spotify:track:0lizgQ7Qw35od7CYaoMBZb',\n",
       " 'spotify:track:1dC0g6ZahdUYKetbKE0lHx',\n",
       " 'spotify:track:7koEVIfRdCfD76Xfn2Lwtz',\n",
       " 'spotify:track:6UlAWE7KCjp706JcNnZrFh',\n",
       " 'spotify:track:5LD9Kx8SmFL4yToNIbQ0ty',\n",
       " 'spotify:track:5OAEQKfQzIB3X4K7TtviZf',\n",
       " 'spotify:track:1tnOuiBjZeLXEN71ZKtKtu',\n",
       " 'spotify:track:0I0wn4G67txQwENcmRH3d6',\n",
       " 'spotify:track:7zZxuOFE0dfLHW61ZBRqz7',\n",
       " 'spotify:track:5LD9Kx8SmFL4yToNIbQ0ty',\n",
       " 'spotify:track:5OAEQKfQzIB3X4K7TtviZf',\n",
       " 'spotify:track:3Corof62QTY92xtlWj5yex',\n",
       " 'spotify:track:1hj6nYHeGclSY0VNTHMi27',\n",
       " 'spotify:track:507tVcKoaL0iORuaM2nrmy',\n",
       " 'spotify:track:2BmeOiB4IOkF4blp8m9QO0',\n",
       " 'spotify:track:5XeFesFbtLpXzIVDNQP22n',\n",
       " 'spotify:track:4RkKf3UBRxF2kn2Vh0ww8l',\n",
       " 'spotify:track:0sb1fCD9OSi43f1mMFbdsc',\n",
       " 'spotify:track:5LD9Kx8SmFL4yToNIbQ0ty',\n",
       " 'spotify:track:5OAEQKfQzIB3X4K7TtviZf',\n",
       " 'spotify:track:7LnDKGTwMoLv3XSgxOnj83',\n",
       " 'spotify:track:6dBUzqjtbnIa1TwYbyw5CM',\n",
       " 'spotify:track:3ZaEs1O8BG581qYPHpQ8d6',\n",
       " 'spotify:track:4RnvS1tmh1ERhjXX6dxv95',\n",
       " 'spotify:track:6hhRhOIkpUIu1CFNNJfsnt',\n",
       " 'spotify:track:73eG9aOysGUAIAue363Bgd',\n",
       " 'spotify:track:2FDTHlrBguDzQkp7PVj16Q',\n",
       " 'spotify:track:1nu6ryRQROrnR6SGuQvsDf',\n",
       " 'spotify:track:7koEVIfRdCfD76Xfn2Lwtz',\n",
       " 'spotify:track:1tm85WMjFuetEHeip03uqy',\n",
       " 'spotify:track:2wGSgTmgSF3xjRrHkTc25R',\n",
       " 'spotify:track:0qNVN8aMbTFEyoGb0wp3z8',\n",
       " 'spotify:track:269XSeQhDrWEotMALJaACW',\n",
       " 'spotify:track:1sBvGY100lfD3w6tR22M1D',\n",
       " 'spotify:track:0Fez5rq80ffnGYjLVV6Lpa',\n",
       " 'spotify:track:2dRkBASYztFHahOf5GNeQ9',\n",
       " 'spotify:track:08DJSOwdPRV3BpNkUWDJ9X',\n",
       " 'spotify:track:0nNTh1E26SQGtgdETLnsEb',\n",
       " 'spotify:track:7aK5rlTVxSgcqShPMI1TTH',\n",
       " 'spotify:track:2oyJMZrw1DGvvkT2NbCZ0Y',\n",
       " 'spotify:track:0IVkP59yJ9GFF6B7IrvrxA',\n",
       " 'spotify:track:6ILoHRDYfw3mWadKN75WNt',\n",
       " 'spotify:track:4vpeKl0vMGdAXpZiQB2Dtd',\n",
       " 'spotify:track:6Io5lu4UCdTQ1Ax1hhPVaw',\n",
       " 'spotify:track:37mfTcSlX60JtAvAETytGs',\n",
       " 'spotify:track:5Tkn7i13a5V8XIge6cgv59',\n",
       " 'spotify:track:74jX68ir4Gjpll6osaaRUK',\n",
       " 'spotify:track:2lFlveK1y13WWp3vnQtrr3',\n",
       " 'spotify:track:54rhtl3WK3Vu8Mkrrm8l0t',\n",
       " 'spotify:track:0DKNNR9iDjwfCEpMiFXMJq',\n",
       " 'spotify:track:2lwwrWVKdf3LR9lbbhnr6R',\n",
       " 'spotify:track:0IVkP59yJ9GFF6B7IrvrxA',\n",
       " 'spotify:track:67iAlVNDDdddxqSD2EZhFs',\n",
       " 'spotify:track:243b3t0P416vtdmxRllHEV',\n",
       " 'spotify:track:7e2KYOwOLktfhNUk4MepmH',\n",
       " 'spotify:track:2olVm1lHicpveMAo4AUDRB',\n",
       " 'spotify:track:0lizgQ7Qw35od7CYaoMBZb',\n",
       " 'spotify:track:14Iird4vN0qULIBNUPebNf',\n",
       " 'spotify:track:0b7YcZJ186TaQZzxrxIO1e',\n",
       " 'spotify:track:6NW4akYtTaOKHl3Q72lYnc',\n",
       " 'spotify:track:2zFdsAIk9r2Mi7Lmm1w3sM',\n",
       " 'spotify:track:3ZaEs1O8BG581qYPHpQ8d6',\n",
       " 'spotify:track:2pg2TiYo9Rb8KeB5JjP7jS',\n",
       " 'spotify:track:3ZaEs1O8BG581qYPHpQ8d6',\n",
       " 'spotify:track:4RnvS1tmh1ERhjXX6dxv95',\n",
       " 'spotify:track:6hhRhOIkpUIu1CFNNJfsnt',\n",
       " 'spotify:track:0N6029Y0BCKK1TMpWaluJc',\n",
       " 'spotify:track:6k5ujvu6iu5hdgDZXBtkZG',\n",
       " 'spotify:track:49wRXpkVW8Adz5UA7XnFqt',\n",
       " 'spotify:track:5LD9Kx8SmFL4yToNIbQ0ty',\n",
       " 'spotify:track:5OAEQKfQzIB3X4K7TtviZf',\n",
       " 'spotify:track:7LnDKGTwMoLv3XSgxOnj83',\n",
       " 'spotify:track:7FQla71e0aqCI3OvUaLtBj',\n",
       " 'spotify:track:7xLfmCx9jcZNgzlIK7NupN',\n",
       " 'spotify:track:1JSTJqkT5qHq8MDJnJbRE1']"
      ]
     },
     "execution_count": 81,
     "metadata": {},
     "output_type": "execute_result"
    }
   ],
   "source": [
    "tracks = []\n",
    "for word in important_words:\n",
    "    searchResults = sp.search(q=\"artist:\" + word, type=\"track\", limit=1)\n",
    "    # does the search return any results?\n",
    "    if len(searchResults['tracks']['items']) > 0:\n",
    "        tracks.append(searchResults['tracks']['items'][0]['uri'])\n",
    "\n",
    "tracks"
   ]
  },
  {
   "cell_type": "code",
   "execution_count": 82,
   "id": "fd0a448f-9aeb-4488-85d1-1858a1d8e3bf",
   "metadata": {},
   "outputs": [],
   "source": [
    "# creating a new playlist - but has no songs!\n",
    "my_playlist = sp.user_playlist_create(user=username, name=\"Todays News in \" + category +  \"in\" + country, public=True,\n",
    "                                      description=\"Songs for the news\")\n"
   ]
  },
  {
   "cell_type": "code",
   "execution_count": 83,
   "id": "c273ecc7-b6ad-420a-b4a2-704838b35417",
   "metadata": {},
   "outputs": [],
   "source": [
    "# we are adding songs to our playlist!\n",
    "results = sp.user_playlist_add_tracks(username, my_playlist['id'], tracks)"
   ]
  },
  {
   "cell_type": "code",
   "execution_count": 62,
   "id": "bd1e90b5-6423-45ba-93fe-fecb2a965dab",
   "metadata": {},
   "outputs": [
    {
     "data": {
      "text/plain": [
       "{'collaborative': False,\n",
       " 'description': 'Songs for the news',\n",
       " 'external_urls': {'spotify': 'https://open.spotify.com/playlist/0nKBdxBnkqM7CraJDRchbR'},\n",
       " 'followers': {'href': None, 'total': 0},\n",
       " 'href': 'https://api.spotify.com/v1/playlists/0nKBdxBnkqM7CraJDRchbR',\n",
       " 'id': '0nKBdxBnkqM7CraJDRchbR',\n",
       " 'images': [],\n",
       " 'name': 'Todays News in Entertainment in the US',\n",
       " 'owner': {'display_name': 'katsully1',\n",
       "  'external_urls': {'spotify': 'https://open.spotify.com/user/katsully1'},\n",
       "  'href': 'https://api.spotify.com/v1/users/katsully1',\n",
       "  'id': 'katsully1',\n",
       "  'type': 'user',\n",
       "  'uri': 'spotify:user:katsully1'},\n",
       " 'primary_color': None,\n",
       " 'public': True,\n",
       " 'snapshot_id': 'MSw2YjE2NWJiZmMwYmY4ZWZmM2YyNDQ5MDFkNzQ3YTAwNDZjZDNkNTlk',\n",
       " 'tracks': {'href': 'https://api.spotify.com/v1/playlists/0nKBdxBnkqM7CraJDRchbR/tracks',\n",
       "  'items': [],\n",
       "  'limit': 100,\n",
       "  'next': None,\n",
       "  'offset': 0,\n",
       "  'previous': None,\n",
       "  'total': 0},\n",
       " 'type': 'playlist',\n",
       " 'uri': 'spotify:playlist:0nKBdxBnkqM7CraJDRchbR'}"
      ]
     },
     "execution_count": 62,
     "metadata": {},
     "output_type": "execute_result"
    }
   ],
   "source": [
    "my_playlist"
   ]
  },
  {
   "cell_type": "code",
   "execution_count": 84,
   "id": "59ac0602-af66-4156-9885-45e0c4c73103",
   "metadata": {},
   "outputs": [
    {
     "data": {
      "text/plain": [
       "True"
      ]
     },
     "execution_count": 84,
     "metadata": {},
     "output_type": "execute_result"
    }
   ],
   "source": [
    "webbrowser.open(my_playlist['external_urls']['spotify'])"
   ]
  },
  {
   "cell_type": "code",
   "execution_count": null,
   "id": "cb631f8d-04e8-477e-aa1d-42f59179940d",
   "metadata": {},
   "outputs": [],
   "source": []
  }
 ],
 "metadata": {
  "kernelspec": {
   "display_name": "Python 3 (ipykernel)",
   "language": "python",
   "name": "python3"
  },
  "language_info": {
   "codemirror_mode": {
    "name": "ipython",
    "version": 3
   },
   "file_extension": ".py",
   "mimetype": "text/x-python",
   "name": "python",
   "nbconvert_exporter": "python",
   "pygments_lexer": "ipython3",
   "version": "3.10.6"
  }
 },
 "nbformat": 4,
 "nbformat_minor": 5
}
