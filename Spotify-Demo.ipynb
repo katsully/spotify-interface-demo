{
 "cells": [
  {
   "cell_type": "code",
   "execution_count": 32,
   "id": "b4c5842f-2bb8-466e-8797-b9a41f749efe",
   "metadata": {},
   "outputs": [],
   "source": [
    "import spotipy\n",
    "import urllib.request\n",
    "import random\n",
    "import requests\n",
    "import nltk\n",
    "import webbrowser\n",
    "import json\n",
    "from nltk import pos_tag\n",
    "import spotipy.util as util"
   ]
  },
  {
   "cell_type": "code",
   "execution_count": 2,
   "id": "24592a8f-1a31-4898-b290-66d33923eba2",
   "metadata": {},
   "outputs": [],
   "source": [
    "with open(\"news_key.txt\", \"r\") as file:\n",
    "    key = file.read()"
   ]
  },
  {
   "cell_type": "code",
   "execution_count": 3,
   "id": "7e1e9028-b316-4bb0-9c91-1a22bb825662",
   "metadata": {},
   "outputs": [],
   "source": [
    "url = \"https://newsapi.org/v2/top-headlines?country=us&category=entertainment&apiKey=\" + key"
   ]
  },
  {
   "cell_type": "code",
   "execution_count": 4,
   "id": "9d4530a3-5382-49f1-9d4f-070251356a46",
   "metadata": {},
   "outputs": [
    {
     "data": {
      "text/plain": [
       "'https://newsapi.org/v2/top-headlines?country=us&category=entertainment&apiKey=19e7b8a1be8f48a790f4655dde3660e4'"
      ]
     },
     "execution_count": 4,
     "metadata": {},
     "output_type": "execute_result"
    }
   ],
   "source": [
    "url"
   ]
  },
  {
   "cell_type": "code",
   "execution_count": 5,
   "id": "f0effbe3-7972-45fd-8dba-7c3bf4b8f9de",
   "metadata": {},
   "outputs": [],
   "source": [
    "# requesting the information\n",
    "request = urllib.request.Request(url)\n",
    "# the information is coming back to me\n",
    "response = urllib.request.urlopen(request)"
   ]
  },
  {
   "cell_type": "code",
   "execution_count": 6,
   "id": "8d1207e7-18c6-44b5-ac1e-0c8720215d89",
   "metadata": {},
   "outputs": [
    {
     "data": {
      "text/plain": [
       "<http.client.HTTPResponse at 0x1f7206a05b0>"
      ]
     },
     "execution_count": 6,
     "metadata": {},
     "output_type": "execute_result"
    }
   ],
   "source": [
    "response"
   ]
  },
  {
   "cell_type": "code",
   "execution_count": 11,
   "id": "e6e95aa8-ecdc-4340-8bd0-f90a5df3d13d",
   "metadata": {},
   "outputs": [],
   "source": [
    "# to get the data out of the response object\n",
    "headlines = json.loads(response.read())"
   ]
  },
  {
   "cell_type": "code",
   "execution_count": 12,
   "id": "6e07daf1-f40c-4d49-b4cd-97b688223c28",
   "metadata": {},
   "outputs": [
    {
     "data": {
      "text/plain": [
       "{'status': 'ok',\n",
       " 'totalResults': 68,\n",
       " 'articles': [{'title': 'The Best Red Carpet Looks At Beyoncé\\'s \"Renaissance\" Film Premiere - Essence',\n",
       "   'author': 'Kerane Marcellus',\n",
       "   'source': {'id': None, 'name': 'Essence'},\n",
       "   'publishedAt': '2023-11-27T13:49:00Z',\n",
       "   'url': 'http://www.essence.com/gallery/renaissance-film-beyonce-premiere-best-red-carpet-looks/'},\n",
       "  {'title': 'Taylor Swift poses for photo with family of fan who died at Eras Tour show - Page Six',\n",
       "   'author': 'Riley Cardoza',\n",
       "   'source': {'id': None, 'name': 'Page Six'},\n",
       "   'publishedAt': '2023-11-27T13:13:00Z',\n",
       "   'url': 'https://pagesix.com/2023/11/27/entertainment/taylor-swift-meets-family-of-fan-who-died-at-eras-tour-show/'},\n",
       "  {'title': 'Craziest WWE mismatches: WWE Playlist - WWE',\n",
       "   'author': None,\n",
       "   'source': {'id': None, 'name': 'YouTube'},\n",
       "   'publishedAt': '2023-11-27T13:00:00Z',\n",
       "   'url': 'https://www.youtube.com/watch?v=-wLdd4l4YXE'},\n",
       "  {'title': \"Irish author Paul Lynch wins Booker Prize for 'Prophet Song' - DW (English)\",\n",
       "   'author': 'Deutsche Welle',\n",
       "   'source': {'id': None, 'name': 'DW (English)'},\n",
       "   'publishedAt': '2023-11-27T12:55:52Z',\n",
       "   'url': 'https://www.dw.com/en/irish-author-paul-lynch-wins-booker-prize-for-prophet-song/a-67558992'},\n",
       "  {'title': \"John Travolta nearly died after his plane had 'total electrical failure' - New York Post \",\n",
       "   'author': 'Stephanie Webber',\n",
       "   'source': {'id': None, 'name': 'New York Post'},\n",
       "   'publishedAt': '2023-11-27T12:51:00Z',\n",
       "   'url': 'https://nypost.com/2023/11/27/entertainment/john-travolta-nearly-died-after-plane-had-total-electrical-failure/'},\n",
       "  {'title': 'Historians absolutely hate Ridley Scott Napoleon movie - Insider',\n",
       "   'author': 'Marianne Guenot',\n",
       "   'source': {'id': None, 'name': 'INSIDER'},\n",
       "   'publishedAt': '2023-11-27T12:30:00Z',\n",
       "   'url': 'https://www.insider.com/historians-absolutely-hate-ridley-scott-napoleon-movie-2023-11'},\n",
       "  {'title': \"'Reindeer in Here': Why a dad made an 'Elf on the Shelf' alternative - USA TODAY\",\n",
       "   'author': 'USA TODAY',\n",
       "   'source': {'id': 'usa-today', 'name': 'USA Today'},\n",
       "   'publishedAt': '2023-11-27T12:03:26Z',\n",
       "   'url': 'https://www.usatoday.com/story/money/2023/11/27/reindeer-in-here-elf-on-the-shelf-alternative/71672948007/'},\n",
       "  {'title': 'Last chance: Hulu and Disney Plus Cyber Monday deal combo $2.99/month - Space.com',\n",
       "   'author': 'Alexander Cox, Jase Parnell-Brookes',\n",
       "   'source': {'id': None, 'name': 'Space.com'},\n",
       "   'publishedAt': '2023-11-27T11:38:26Z',\n",
       "   'url': 'https://www.space.com/hulu-disney-plus-cyber-monday-streaming-deal-2023'},\n",
       "  {'title': 'Country music couples Tim McGraw, Faith Hill and Garth Brooks, Trisha Yearwood share tips to lasting marriages - Fox News',\n",
       "   'author': 'Stephanie Giang-Paunon',\n",
       "   'source': {'id': 'fox-news', 'name': 'Fox News'},\n",
       "   'publishedAt': '2023-11-27T11:00:00Z',\n",
       "   'url': 'https://www.foxnews.com/entertainment/country-music-couples-tim-mcgraw-faith-hill-garth-brooks-trisha-yearwood-lasting-marriages'},\n",
       "  {'title': \"Kim Kardashian's fake 'nipple bra' to ensure eye-popping view through clothing sold out online - Fox News\",\n",
       "   'author': 'Hannah Grossman',\n",
       "   'source': {'id': 'fox-news', 'name': 'Fox News'},\n",
       "   'publishedAt': '2023-11-27T11:00:00Z',\n",
       "   'url': 'https://www.foxnews.com/media/kim-kardashians-push-up-bra-fake-nipples-built-sold-out-online-get-lots-attention'},\n",
       "  {'title': 'Bradley Cooper supports Brad Pitt, Brooke Shields as real-life Hollywood hero - Fox News',\n",
       "   'author': 'Tracy Wright',\n",
       "   'source': {'id': 'fox-news', 'name': 'Fox News'},\n",
       "   'publishedAt': '2023-11-27T10:30:00Z',\n",
       "   'url': 'https://www.foxnews.com/entertainment/bradley-cooper-supports-brad-pitt-brooke-shields-real-life-hollywood-hero'},\n",
       "  {'title': 'Tiny Desk Korea: Tomorrow X Together - NPR Music',\n",
       "   'author': None,\n",
       "   'source': {'id': None, 'name': 'YouTube'},\n",
       "   'publishedAt': '2023-11-27T10:00:42Z',\n",
       "   'url': 'https://www.youtube.com/watch?v=r5rCcKj84JU'},\n",
       "  {'title': \"Comedian Bill Engvall left California for Utah after successful career: 'Felt more at home' - Fox News\",\n",
       "   'author': 'Caroline Thayer',\n",
       "   'source': {'id': 'fox-news', 'name': 'Fox News'},\n",
       "   'publishedAt': '2023-11-27T09:30:00Z',\n",
       "   'url': 'https://www.foxnews.com/entertainment/bill-engvall-left-california-utah-successful-career-felt-like-home'},\n",
       "  {'title': 'MegaUpload Founder Kim Dotcom to Get the Biopic Treatment - Hollywood Reporter',\n",
       "   'author': 'Scott Roxborough',\n",
       "   'source': {'id': None, 'name': 'Hollywood Reporter'},\n",
       "   'publishedAt': '2023-11-27T09:05:51Z',\n",
       "   'url': 'https://www.hollywoodreporter.com/tv/tv-news/biopic-series-megaupload-founder-kim-dotcom-1235679471/'},\n",
       "  {'title': 'Kantara A Legend Chapter-1 First Look: Large! - Gulte',\n",
       "   'author': 'Satya B',\n",
       "   'source': {'id': None, 'name': 'Gulte'},\n",
       "   'publishedAt': '2023-11-27T07:30:00Z',\n",
       "   'url': 'https://www.gulte.com/movienews/269695/kantara-a-legend-chapter-1-first-look-large'},\n",
       "  {'title': 'Rumor Roundup: CM Punk’s WWE return, Drew McIntyre situation, WWE deals, more! - Cageside Seats',\n",
       "   'author': 'Randall Ortman',\n",
       "   'source': {'id': None, 'name': 'Cageside Seats'},\n",
       "   'publishedAt': '2023-11-27T06:00:00Z',\n",
       "   'url': 'https://www.cagesideseats.com/2023/11/27/23977213/rumor-roundup-nov-27-2023-cm-punk-wwe-return-drew-mcintyre-situation-wwe-deals-survivor-series'},\n",
       "  {'title': 'Linda Evangelista Says She Doesn’t “Blame” Herself After CoolSculpting Ordeal - Hollywood Reporter',\n",
       "   'author': 'Hilary Lewis',\n",
       "   'source': {'id': None, 'name': 'Hollywood Reporter'},\n",
       "   'publishedAt': '2023-11-27T05:51:44Z',\n",
       "   'url': 'https://www.hollywoodreporter.com/news/general-news/linda-evangelista-doesnt-blame-herself-coolsculpting-1235679394/'}]}"
      ]
     },
     "execution_count": 12,
     "metadata": {},
     "output_type": "execute_result"
    }
   ],
   "source": [
    "headlines"
   ]
  },
  {
   "cell_type": "code",
   "execution_count": 13,
   "id": "584952ff-d895-469c-80f6-f1b7762f6ec3",
   "metadata": {},
   "outputs": [
    {
     "data": {
      "text/plain": [
       "'The Best Red Carpet Looks At Beyoncé\\'s \"Renaissance\" Film Premiere - Essence'"
      ]
     },
     "execution_count": 13,
     "metadata": {},
     "output_type": "execute_result"
    }
   ],
   "source": [
    "headlines['articles'][0]['title']"
   ]
  },
  {
   "cell_type": "code",
   "execution_count": 14,
   "id": "20415def-725c-4eda-8c40-b0fce08a55f7",
   "metadata": {},
   "outputs": [],
   "source": [
    "article_titles = [article['title'] for article in headlines['articles']]"
   ]
  },
  {
   "cell_type": "code",
   "execution_count": 15,
   "id": "093ac1a4-7f25-4f39-88d1-5ff6dbd18332",
   "metadata": {},
   "outputs": [
    {
     "data": {
      "text/plain": [
       "['The Best Red Carpet Looks At Beyoncé\\'s \"Renaissance\" Film Premiere - Essence',\n",
       " 'Taylor Swift poses for photo with family of fan who died at Eras Tour show - Page Six',\n",
       " 'Craziest WWE mismatches: WWE Playlist - WWE',\n",
       " \"Irish author Paul Lynch wins Booker Prize for 'Prophet Song' - DW (English)\",\n",
       " \"John Travolta nearly died after his plane had 'total electrical failure' - New York Post \",\n",
       " 'Historians absolutely hate Ridley Scott Napoleon movie - Insider',\n",
       " \"'Reindeer in Here': Why a dad made an 'Elf on the Shelf' alternative - USA TODAY\",\n",
       " 'Last chance: Hulu and Disney Plus Cyber Monday deal combo $2.99/month - Space.com',\n",
       " 'Country music couples Tim McGraw, Faith Hill and Garth Brooks, Trisha Yearwood share tips to lasting marriages - Fox News',\n",
       " \"Kim Kardashian's fake 'nipple bra' to ensure eye-popping view through clothing sold out online - Fox News\",\n",
       " 'Bradley Cooper supports Brad Pitt, Brooke Shields as real-life Hollywood hero - Fox News',\n",
       " 'Tiny Desk Korea: Tomorrow X Together - NPR Music',\n",
       " \"Comedian Bill Engvall left California for Utah after successful career: 'Felt more at home' - Fox News\",\n",
       " 'MegaUpload Founder Kim Dotcom to Get the Biopic Treatment - Hollywood Reporter',\n",
       " 'Kantara A Legend Chapter-1 First Look: Large! - Gulte',\n",
       " 'Rumor Roundup: CM Punk’s WWE return, Drew McIntyre situation, WWE deals, more! - Cageside Seats',\n",
       " 'Linda Evangelista Says She Doesn’t “Blame” Herself After CoolSculpting Ordeal - Hollywood Reporter']"
      ]
     },
     "execution_count": 15,
     "metadata": {},
     "output_type": "execute_result"
    }
   ],
   "source": [
    "article_titles"
   ]
  },
  {
   "cell_type": "code",
   "execution_count": 21,
   "id": "05d8c253-3847-4fc5-be1e-3081f1fb4f42",
   "metadata": {},
   "outputs": [
    {
     "data": {
      "text/plain": [
       "[('The', 'DT'),\n",
       " ('Best', 'NNP'),\n",
       " ('Red', 'NNP'),\n",
       " ('Carpet', 'NNP'),\n",
       " ('Looks', 'NNP'),\n",
       " ('At', 'IN'),\n",
       " (\"Beyoncé's\", 'NNP'),\n",
       " ('\"Renaissance\"', 'NNP'),\n",
       " ('Film', 'NNP'),\n",
       " ('Premiere', 'NNP'),\n",
       " ('-', ':'),\n",
       " ('Essence', 'NN')]"
      ]
     },
     "execution_count": 21,
     "metadata": {},
     "output_type": "execute_result"
    }
   ],
   "source": [
    "tagged = pos_tag(article_titles[0].split())\n",
    "tagged"
   ]
  },
  {
   "cell_type": "code",
   "execution_count": 24,
   "id": "99eb6c12-cfa4-4513-8805-ea163148ec0e",
   "metadata": {},
   "outputs": [
    {
     "name": "stdout",
     "output_type": "stream",
     "text": [
      "('The', 'DT')\n",
      "('Best', 'NNP')\n",
      "('Red', 'NNP')\n",
      "('Carpet', 'NNP')\n",
      "('Looks', 'NNP')\n",
      "('At', 'IN')\n",
      "(\"Beyoncé's\", 'NNP')\n",
      "('\"Renaissance\"', 'NNP')\n",
      "('Film', 'NNP')\n",
      "('Premiere', 'NNP')\n",
      "('-', ':')\n",
      "('Essence', 'NN')\n"
     ]
    }
   ],
   "source": [
    "for tag in tagged:\n",
    "    print(tag)"
   ]
  },
  {
   "cell_type": "code",
   "execution_count": 27,
   "id": "b4a83116-fcf9-40ca-8cb3-3c42e504a143",
   "metadata": {},
   "outputs": [
    {
     "data": {
      "text/plain": [
       "['Best',\n",
       " 'Red',\n",
       " 'Carpet',\n",
       " 'Looks',\n",
       " \"Beyoncé's\",\n",
       " '\"Renaissance\"',\n",
       " 'Film',\n",
       " 'Premiere',\n",
       " 'Taylor',\n",
       " 'Swift',\n",
       " 'Eras',\n",
       " 'Tour',\n",
       " 'Craziest',\n",
       " 'WWE',\n",
       " 'WWE',\n",
       " 'Playlist',\n",
       " 'Paul',\n",
       " 'Lynch',\n",
       " 'Booker',\n",
       " 'Prize',\n",
       " \"'Prophet\",\n",
       " \"Song'\",\n",
       " 'DW',\n",
       " 'John',\n",
       " 'Travolta',\n",
       " 'New',\n",
       " 'York',\n",
       " 'Post',\n",
       " 'Ridley',\n",
       " 'Scott',\n",
       " 'Napoleon',\n",
       " \"Here':\",\n",
       " \"Shelf'\",\n",
       " 'Hulu',\n",
       " 'Disney',\n",
       " 'Plus',\n",
       " 'Cyber',\n",
       " 'Monday',\n",
       " '$2.99/month',\n",
       " 'Country',\n",
       " 'Tim',\n",
       " 'McGraw,',\n",
       " 'Faith',\n",
       " 'Hill',\n",
       " 'Garth',\n",
       " 'Brooks,',\n",
       " 'Trisha',\n",
       " 'Yearwood',\n",
       " 'Fox',\n",
       " 'News',\n",
       " 'Kim',\n",
       " \"Kardashian's\",\n",
       " 'Bradley',\n",
       " 'Cooper',\n",
       " 'Brad',\n",
       " 'Pitt,',\n",
       " 'Brooke',\n",
       " 'Shields',\n",
       " 'Hollywood',\n",
       " 'Tiny',\n",
       " 'Desk',\n",
       " 'Korea:',\n",
       " 'Tomorrow',\n",
       " 'X',\n",
       " 'Together',\n",
       " 'Music',\n",
       " 'Bill',\n",
       " 'Engvall',\n",
       " 'California',\n",
       " 'Utah',\n",
       " 'MegaUpload',\n",
       " 'Founder',\n",
       " 'Kim',\n",
       " 'Dotcom',\n",
       " 'Biopic',\n",
       " 'Treatment',\n",
       " 'Hollywood',\n",
       " 'Reporter',\n",
       " 'Kantara',\n",
       " 'A',\n",
       " 'Legend',\n",
       " 'Chapter-1',\n",
       " 'First',\n",
       " 'Look:',\n",
       " 'Large!',\n",
       " 'Rumor',\n",
       " 'Roundup:',\n",
       " 'CM',\n",
       " 'Punk’s',\n",
       " 'WWE',\n",
       " 'Drew',\n",
       " 'McIntyre',\n",
       " 'WWE',\n",
       " 'Linda',\n",
       " 'Evangelista',\n",
       " 'Doesn’t',\n",
       " 'Herself',\n",
       " 'Ordeal',\n",
       " 'Hollywood',\n",
       " 'Reporter']"
      ]
     },
     "execution_count": 27,
     "metadata": {},
     "output_type": "execute_result"
    }
   ],
   "source": [
    "important_words = []\n",
    "for article in article_titles:\n",
    "    tagged = pos_tag(article.split())\n",
    "    # only select the proper nouns\n",
    "    important_words.extend([word for word,tag in tagged if tag == 'NNP'])\n",
    "\n",
    "important_words"
   ]
  },
  {
   "cell_type": "code",
   "execution_count": 29,
   "id": "06fdb4ee-81bc-4ab2-a1a5-02cf6c266bbd",
   "metadata": {},
   "outputs": [],
   "source": [
    "with open(\"spotify_keys.json\", \"r\") as file:\n",
    "    api_tokens = json.load(file)"
   ]
  },
  {
   "cell_type": "code",
   "execution_count": 30,
   "id": "245a1a0a-75bd-4af4-ac28-c9d5abbd47bf",
   "metadata": {},
   "outputs": [],
   "source": [
    "client_id = api_tokens[\"client_id\"]\n",
    "client_secret = api_tokens[\"client_secret\"]\n",
    "redirectURI = api_tokens[\"redirect\"]\n",
    "username = api_tokens[\"username\"]"
   ]
  },
  {
   "cell_type": "code",
   "execution_count": null,
   "id": "4cec29b9-6523-4de5-b8e1-14687c1fd0c0",
   "metadata": {},
   "outputs": [],
   "source": [
    "scope = 'user-read-private user-read-playback-state user-modify-playback-state playlist-modify-public user-library-read'\n",
    "token = util.prompt_for_user_token(username, scope, client_id=client_id,\n",
    "                           client_secret=client_secret,\n",
    "                           redirect_uri=redirectURI)"
   ]
  },
  {
   "cell_type": "code",
   "execution_count": null,
   "id": "44043fcd-57b7-4ceb-8671-e0cf4ac3b530",
   "metadata": {},
   "outputs": [],
   "source": [
    "token"
   ]
  },
  {
   "cell_type": "code",
   "execution_count": 37,
   "id": "40769d02-ad1f-4787-9e4e-74a7ee4487d3",
   "metadata": {},
   "outputs": [],
   "source": [
    "sp = spotipy.Spotify(auth=token)"
   ]
  },
  {
   "cell_type": "code",
   "execution_count": null,
   "id": "816ff585-4063-465f-b23a-3fe9ca6af9a3",
   "metadata": {},
   "outputs": [],
   "source": []
  }
 ],
 "metadata": {
  "kernelspec": {
   "display_name": "Python 3 (ipykernel)",
   "language": "python",
   "name": "python3"
  },
  "language_info": {
   "codemirror_mode": {
    "name": "ipython",
    "version": 3
   },
   "file_extension": ".py",
   "mimetype": "text/x-python",
   "name": "python",
   "nbconvert_exporter": "python",
   "pygments_lexer": "ipython3",
   "version": "3.10.6"
  }
 },
 "nbformat": 4,
 "nbformat_minor": 5
}
